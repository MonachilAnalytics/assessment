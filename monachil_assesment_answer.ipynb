{
  "nbformat": 4,
  "nbformat_minor": 0,
  "metadata": {
    "colab": {
      "name": "monachil-assesment-answer.ipynb",
      "provenance": [],
      "collapsed_sections": [
        "Wrtyf57dvYOt"
      ],
      "authorship_tag": "ABX9TyPclfOUq3lpHPwMuHz0GFpc",
      "include_colab_link": true
    },
    "kernelspec": {
      "name": "python3",
      "display_name": "Python 3"
    },
    "language_info": {
      "name": "python"
    }
  },
  "cells": [
    {
      "cell_type": "markdown",
      "metadata": {
        "id": "view-in-github",
        "colab_type": "text"
      },
      "source": [
        "<a href=\"https://colab.research.google.com/github/MonachilAnalytics/assessment/blob/main/monachil_assesment_answer.ipynb\" target=\"_parent\"><img src=\"https://colab.research.google.com/assets/colab-badge.svg\" alt=\"Open In Colab\"/></a>"
      ]
    },
    {
      "cell_type": "markdown",
      "metadata": {
        "id": "_tdx0b0X0Ncq"
      },
      "source": [
        "**Greeting from Monachil Analytics Team!**\n",
        "\n",
        "Please read the instruction carefully before you start coding. \n",
        "\n",
        "This assesment consists of three sessions.\n",
        "\n",
        "1. The first part will asses your knowledge of SQL.\n",
        "2. The second part will assess your data manipulation skills in Python.\n",
        "3. The last part will ask for your feedback and opinion about the rotational program in our team.\n",
        "\n",
        "This assesment demonstrates the day-to-day job that you would have to encounter at Monachil Capital Partners. Therefore, the context is related to our business. It is also a good chance for you to understand the nature of the data that you have to deal with as a part of analytics team."
      ]
    },
    {
      "cell_type": "markdown",
      "metadata": {
        "id": "xwtqJiuL1aZR"
      },
      "source": [
        "# Section 1: Executing SQL query using Python"
      ]
    },
    {
      "cell_type": "markdown",
      "metadata": {
        "id": "qq6RTNZ35Vj6"
      },
      "source": [
        "**Problem**\n",
        "\n",
        "In this excercise you will do data manipulation and basic queries using SQL and Python."
      ]
    },
    {
      "cell_type": "code",
      "metadata": {
        "id": "tEoSYMVldyk8"
      },
      "source": [
        "'''\n",
        "Import libraries for data manipulation\n",
        "'''\n",
        "import pandas as pd\n",
        "import datetime\n",
        "import numpy as np\n",
        "import sqlite3"
      ],
      "execution_count": null,
      "outputs": []
    },
    {
      "cell_type": "markdown",
      "metadata": {
        "id": "5lBvRWK9dyk8"
      },
      "source": [
        "**Part 1: Create a Loan Tape dataset**\n",
        "\n",
        "*   Loan tape represents the information on when a debtholder is scheduled to make a payment on a loan that is uniquely identified by `LoanID`\n",
        "\n",
        "\n",
        "\n",
        "\n",
        "\n",
        "\n"
      ]
    },
    {
      "cell_type": "code",
      "metadata": {
        "id": "229ySnV3dyk8"
      },
      "source": [
        "columns = ['LoanID','DisbursementDate','InstallmentNumber','FaceValue','InstallmentDueDate','ExpectedPayment']\n",
        "data = [[1,datetime.date(2021,1,1),1,300,datetime.date(2021,2,1),100],\n",
        "        [1,datetime.date(2021,1,1),2,300, datetime.date(2021,3,1),100],\n",
        "        [1,datetime.date(2021,1,1),3,300, datetime.date(2021,4,1),100],\n",
        "        [2,datetime.date(2021,6,1),1,400, datetime.date(2021,7,1),100],\n",
        "        [2,datetime.date(2021,6,1),2,400, datetime.date(2021,8,1),100],\n",
        "        [2,datetime.date(2021,6,1),3,400, datetime.date(2021,9,1),100],\n",
        "        [2,datetime.date(2021,6,1),4,400, datetime.date(2021,10,1),100]\n",
        "        ]"
      ],
      "execution_count": null,
      "outputs": []
    },
    {
      "cell_type": "code",
      "metadata": {
        "id": "ys8tT1k07xrQ"
      },
      "source": [
        "'''\n",
        "TO DO: Create a Loan Tape dataframe.\n",
        "'''\n",
        "dfLoanTape = pd.DataFrame(data,columns=columns)"
      ],
      "execution_count": null,
      "outputs": []
    },
    {
      "cell_type": "code",
      "metadata": {
        "id": "aSzOiBCX6MaD",
        "colab": {
          "base_uri": "https://localhost:8080/",
          "height": 265
        },
        "outputId": "7325058f-00a2-4bfd-8789-92493efd944b"
      },
      "source": [
        "# This is the sample of the data frame that you want to achieve (dfLoanTape)\n",
        "dfLoanTape"
      ],
      "execution_count": null,
      "outputs": [
        {
          "output_type": "execute_result",
          "data": {
            "text/html": [
              "<div>\n",
              "<style scoped>\n",
              "    .dataframe tbody tr th:only-of-type {\n",
              "        vertical-align: middle;\n",
              "    }\n",
              "\n",
              "    .dataframe tbody tr th {\n",
              "        vertical-align: top;\n",
              "    }\n",
              "\n",
              "    .dataframe thead th {\n",
              "        text-align: right;\n",
              "    }\n",
              "</style>\n",
              "<table border=\"1\" class=\"dataframe\">\n",
              "  <thead>\n",
              "    <tr style=\"text-align: right;\">\n",
              "      <th></th>\n",
              "      <th>LoanID</th>\n",
              "      <th>DisbursementDate</th>\n",
              "      <th>InstallmentNumber</th>\n",
              "      <th>FaceValue</th>\n",
              "      <th>InstallmentDueDate</th>\n",
              "      <th>ExpectedPayment</th>\n",
              "    </tr>\n",
              "  </thead>\n",
              "  <tbody>\n",
              "    <tr>\n",
              "      <th>0</th>\n",
              "      <td>1</td>\n",
              "      <td>2021-01-01</td>\n",
              "      <td>1</td>\n",
              "      <td>300</td>\n",
              "      <td>2021-02-01</td>\n",
              "      <td>100</td>\n",
              "    </tr>\n",
              "    <tr>\n",
              "      <th>1</th>\n",
              "      <td>1</td>\n",
              "      <td>2021-01-01</td>\n",
              "      <td>2</td>\n",
              "      <td>300</td>\n",
              "      <td>2021-03-01</td>\n",
              "      <td>100</td>\n",
              "    </tr>\n",
              "    <tr>\n",
              "      <th>2</th>\n",
              "      <td>1</td>\n",
              "      <td>2021-01-01</td>\n",
              "      <td>3</td>\n",
              "      <td>300</td>\n",
              "      <td>2021-04-01</td>\n",
              "      <td>100</td>\n",
              "    </tr>\n",
              "    <tr>\n",
              "      <th>3</th>\n",
              "      <td>2</td>\n",
              "      <td>2021-06-01</td>\n",
              "      <td>1</td>\n",
              "      <td>400</td>\n",
              "      <td>2021-07-01</td>\n",
              "      <td>100</td>\n",
              "    </tr>\n",
              "    <tr>\n",
              "      <th>4</th>\n",
              "      <td>2</td>\n",
              "      <td>2021-06-01</td>\n",
              "      <td>2</td>\n",
              "      <td>400</td>\n",
              "      <td>2021-08-01</td>\n",
              "      <td>100</td>\n",
              "    </tr>\n",
              "    <tr>\n",
              "      <th>5</th>\n",
              "      <td>2</td>\n",
              "      <td>2021-06-01</td>\n",
              "      <td>3</td>\n",
              "      <td>400</td>\n",
              "      <td>2021-09-01</td>\n",
              "      <td>100</td>\n",
              "    </tr>\n",
              "    <tr>\n",
              "      <th>6</th>\n",
              "      <td>2</td>\n",
              "      <td>2021-06-01</td>\n",
              "      <td>4</td>\n",
              "      <td>400</td>\n",
              "      <td>2021-10-01</td>\n",
              "      <td>100</td>\n",
              "    </tr>\n",
              "  </tbody>\n",
              "</table>\n",
              "</div>"
            ],
            "text/plain": [
              "   LoanID DisbursementDate  ...  InstallmentDueDate  ExpectedPayment\n",
              "0       1       2021-01-01  ...          2021-02-01              100\n",
              "1       1       2021-01-01  ...          2021-03-01              100\n",
              "2       1       2021-01-01  ...          2021-04-01              100\n",
              "3       2       2021-06-01  ...          2021-07-01              100\n",
              "4       2       2021-06-01  ...          2021-08-01              100\n",
              "5       2       2021-06-01  ...          2021-09-01              100\n",
              "6       2       2021-06-01  ...          2021-10-01              100\n",
              "\n",
              "[7 rows x 6 columns]"
            ]
          },
          "metadata": {},
          "execution_count": 30
        }
      ]
    },
    {
      "cell_type": "markdown",
      "metadata": {
        "id": "Ibwj3Faa6yA5"
      },
      "source": [
        "**Part 2: Create a Collection Tape dataset**\n",
        "\n",
        "*   Collection tape represents the information on when a debtholder makes an actual payment on a loan that is uniquely identified by `LoanID`"
      ]
    },
    {
      "cell_type": "code",
      "metadata": {
        "id": "U4fSjrt4dyk9"
      },
      "source": [
        "collectionColumns = ['LoanID','CollectionDate','InstallmentNumber','CollectedAmount']\n",
        "collectionData = [[1,datetime.date(2021,1,1),1,100],\n",
        "        [1,datetime.date(2021,1,15),2,50],\n",
        "        [1,datetime.date(2021,1,31),2,25],\n",
        "        [2,datetime.date(2021,7,1),1,100],\n",
        "        [2,datetime.date(2021,8,1),2,100],\n",
        "        [2,datetime.date(2021,9,1),3,80],\n",
        "        [2,datetime.date(2021,9,15),3,10]\n",
        "        ]"
      ],
      "execution_count": null,
      "outputs": []
    },
    {
      "cell_type": "code",
      "metadata": {
        "id": "0XYu9WKp738K"
      },
      "source": [
        "'''\n",
        "TO DO: Create a Collection Tape dataframe.\n",
        "'''\n",
        "dfCollection = pd.DataFrame(collectionData,columns=collectionColumns)"
      ],
      "execution_count": null,
      "outputs": []
    },
    {
      "cell_type": "code",
      "metadata": {
        "id": "qcVfH0WNdyk9",
        "colab": {
          "base_uri": "https://localhost:8080/",
          "height": 265
        },
        "outputId": "3520c336-f089-45b2-dbf7-7901c06eab56"
      },
      "source": [
        "# This is the sample of the data frame that you want to archieve (dfCollection)\n",
        "dfCollection"
      ],
      "execution_count": null,
      "outputs": [
        {
          "output_type": "execute_result",
          "data": {
            "text/html": [
              "<div>\n",
              "<style scoped>\n",
              "    .dataframe tbody tr th:only-of-type {\n",
              "        vertical-align: middle;\n",
              "    }\n",
              "\n",
              "    .dataframe tbody tr th {\n",
              "        vertical-align: top;\n",
              "    }\n",
              "\n",
              "    .dataframe thead th {\n",
              "        text-align: right;\n",
              "    }\n",
              "</style>\n",
              "<table border=\"1\" class=\"dataframe\">\n",
              "  <thead>\n",
              "    <tr style=\"text-align: right;\">\n",
              "      <th></th>\n",
              "      <th>LoanID</th>\n",
              "      <th>CollectionDate</th>\n",
              "      <th>InstallmentNumber</th>\n",
              "      <th>CollectedAmount</th>\n",
              "    </tr>\n",
              "  </thead>\n",
              "  <tbody>\n",
              "    <tr>\n",
              "      <th>0</th>\n",
              "      <td>1</td>\n",
              "      <td>2021-01-01</td>\n",
              "      <td>1</td>\n",
              "      <td>100</td>\n",
              "    </tr>\n",
              "    <tr>\n",
              "      <th>1</th>\n",
              "      <td>1</td>\n",
              "      <td>2021-01-15</td>\n",
              "      <td>2</td>\n",
              "      <td>50</td>\n",
              "    </tr>\n",
              "    <tr>\n",
              "      <th>2</th>\n",
              "      <td>1</td>\n",
              "      <td>2021-01-31</td>\n",
              "      <td>2</td>\n",
              "      <td>25</td>\n",
              "    </tr>\n",
              "    <tr>\n",
              "      <th>3</th>\n",
              "      <td>2</td>\n",
              "      <td>2021-07-01</td>\n",
              "      <td>1</td>\n",
              "      <td>100</td>\n",
              "    </tr>\n",
              "    <tr>\n",
              "      <th>4</th>\n",
              "      <td>2</td>\n",
              "      <td>2021-08-01</td>\n",
              "      <td>2</td>\n",
              "      <td>100</td>\n",
              "    </tr>\n",
              "    <tr>\n",
              "      <th>5</th>\n",
              "      <td>2</td>\n",
              "      <td>2021-09-01</td>\n",
              "      <td>3</td>\n",
              "      <td>80</td>\n",
              "    </tr>\n",
              "    <tr>\n",
              "      <th>6</th>\n",
              "      <td>2</td>\n",
              "      <td>2021-09-15</td>\n",
              "      <td>3</td>\n",
              "      <td>10</td>\n",
              "    </tr>\n",
              "  </tbody>\n",
              "</table>\n",
              "</div>"
            ],
            "text/plain": [
              "   LoanID CollectionDate  InstallmentNumber  CollectedAmount\n",
              "0       1     2021-01-01                  1              100\n",
              "1       1     2021-01-15                  2               50\n",
              "2       1     2021-01-31                  2               25\n",
              "3       2     2021-07-01                  1              100\n",
              "4       2     2021-08-01                  2              100\n",
              "5       2     2021-09-01                  3               80\n",
              "6       2     2021-09-15                  3               10"
            ]
          },
          "metadata": {},
          "execution_count": 33
        }
      ]
    },
    {
      "cell_type": "markdown",
      "metadata": {
        "id": "ql1foj9p8XUQ"
      },
      "source": [
        "**Part 3: Create a SQL database and upload Collection Tape and Loan Tape into SQL database**\n"
      ]
    },
    {
      "cell_type": "code",
      "metadata": {
        "id": "3ZCkwY0eLG36"
      },
      "source": [
        "'''\n",
        "Create a library for interaction with database\n",
        "'''\n",
        "def pd_to_sqlDB(input_df: pd.DataFrame,\n",
        "                table_name: str,\n",
        "                db_name: str = 'default.db') -> None:\n",
        "\n",
        "    import logging\n",
        "    logging.basicConfig(level=logging.INFO,\n",
        "                        format='%(asctime)s %(levelname)s: %(message)s',\n",
        "                        datefmt='%Y-%m-%d %H:%M:%S')\n",
        "\n",
        "    cols = input_df.columns\n",
        "    cols_string = ','.join(cols)\n",
        "    val_wildcard_string = ','.join(['?'] * len(cols))\n",
        "\n",
        "    con = sqlite3.connect(db_name)\n",
        "    cur = con.cursor()\n",
        "    logging.info(f'SQL DB {db_name} created')\n",
        "\n",
        "    sql_string = f\"\"\"CREATE TABLE {table_name} ({cols_string});\"\"\"\n",
        "    cur.execute(sql_string)\n",
        "    logging.info(f'SQL Table {table_name} created with {len(cols)} columns')\n",
        "\n",
        "    rows_to_upload = input_df.to_dict(orient='split')['data']\n",
        "    sql_string = f\"\"\"INSERT INTO {table_name} ({cols_string}) VALUES ({val_wildcard_string});\"\"\"\n",
        "    cur.executemany(sql_string, rows_to_upload)\n",
        "    logging.info(f'{len(rows_to_upload)} rows uploaded to {table_name}')\n",
        "  \n",
        "    con.commit()\n",
        "    con.close()\n",
        "\n",
        "\n",
        "def sql_query_to_pd(sql_query_string: str, db_name: str ='default.db') -> pd.DataFrame:\n",
        "\n",
        "    # Step 1: Connect to the SQL DB\n",
        "    con = sqlite3.connect(db_name)\n",
        "\n",
        "    # Step 2: Execute the SQL query\n",
        "    cursor = con.execute(sql_query_string)\n",
        "\n",
        "    # Step 3: Fetch the data and column names\n",
        "    result_data = cursor.fetchall()\n",
        "    cols = [description[0] for description in cursor.description]\n",
        "\n",
        "    # Step 4: Close the connection\n",
        "    con.close()\n",
        "\n",
        "    # Step 5: Return as a dataframe\n",
        "    return pd.DataFrame(result_data, columns=cols)"
      ],
      "execution_count": null,
      "outputs": []
    },
    {
      "cell_type": "code",
      "metadata": {
        "id": "q0NhvSS6LG38",
        "colab": {
          "base_uri": "https://localhost:8080/",
          "height": 330
        },
        "outputId": "ae58a33a-1500-43a7-8961-e35aec5ffe2c"
      },
      "source": [
        "'''\n",
        "TO DO: Upload the Loan Tape to the SQL Table using pd_to_sqlDB()\n",
        "\n",
        "You should upload dfLoanTape into database default.db into table named 'LoanTape'\n",
        "'''\n",
        "pd_to_sqlDB(dfLoanTape,\n",
        "            table_name='LoanTape',\n",
        "            db_name='default.db')"
      ],
      "execution_count": null,
      "outputs": [
        {
          "output_type": "stream",
          "name": "stderr",
          "text": [
            "2021-10-01 14:00:23 INFO: SQL DB default.db created\n"
          ]
        },
        {
          "output_type": "error",
          "ename": "OperationalError",
          "evalue": "ignored",
          "traceback": [
            "\u001b[0;31m---------------------------------------------------------------------------\u001b[0m",
            "\u001b[0;31mOperationalError\u001b[0m                          Traceback (most recent call last)",
            "\u001b[0;32m<ipython-input-35-b7b0d437f3a9>\u001b[0m in \u001b[0;36m<module>\u001b[0;34m()\u001b[0m\n\u001b[1;32m      6\u001b[0m pd_to_sqlDB(dfLoanTape,\n\u001b[1;32m      7\u001b[0m             \u001b[0mtable_name\u001b[0m\u001b[0;34m=\u001b[0m\u001b[0;34m'LoanTape'\u001b[0m\u001b[0;34m,\u001b[0m\u001b[0;34m\u001b[0m\u001b[0;34m\u001b[0m\u001b[0m\n\u001b[0;32m----> 8\u001b[0;31m             db_name='default.db')\n\u001b[0m",
            "\u001b[0;32m<ipython-input-34-ec2648d0b83d>\u001b[0m in \u001b[0;36mpd_to_sqlDB\u001b[0;34m(input_df, table_name, db_name)\u001b[0m\n\u001b[1;32m     20\u001b[0m \u001b[0;34m\u001b[0m\u001b[0m\n\u001b[1;32m     21\u001b[0m     \u001b[0msql_string\u001b[0m \u001b[0;34m=\u001b[0m \u001b[0;34mf\"\"\"CREATE TABLE {table_name} ({cols_string});\"\"\"\u001b[0m\u001b[0;34m\u001b[0m\u001b[0;34m\u001b[0m\u001b[0m\n\u001b[0;32m---> 22\u001b[0;31m     \u001b[0mcur\u001b[0m\u001b[0;34m.\u001b[0m\u001b[0mexecute\u001b[0m\u001b[0;34m(\u001b[0m\u001b[0msql_string\u001b[0m\u001b[0;34m)\u001b[0m\u001b[0;34m\u001b[0m\u001b[0;34m\u001b[0m\u001b[0m\n\u001b[0m\u001b[1;32m     23\u001b[0m     \u001b[0mlogging\u001b[0m\u001b[0;34m.\u001b[0m\u001b[0minfo\u001b[0m\u001b[0;34m(\u001b[0m\u001b[0;34mf'SQL Table {table_name} created with {len(cols)} columns'\u001b[0m\u001b[0;34m)\u001b[0m\u001b[0;34m\u001b[0m\u001b[0;34m\u001b[0m\u001b[0m\n\u001b[1;32m     24\u001b[0m \u001b[0;34m\u001b[0m\u001b[0m\n",
            "\u001b[0;31mOperationalError\u001b[0m: table LoanTape already exists"
          ]
        }
      ]
    },
    {
      "cell_type": "code",
      "metadata": {
        "id": "a1-TW-xkaDb4"
      },
      "source": [
        "'''\n",
        "TO DO: Upload the Collection Tape to the SQL Table using pd_to_sqlDB()\n",
        "\n",
        "You should upload dfCollectionTape into database default.db into table named 'Collection'\n",
        "'''\n",
        "pd_to_sqlDB(dfCollection,\n",
        "            table_name='Collection',\n",
        "            db_name='default.db')"
      ],
      "execution_count": null,
      "outputs": []
    },
    {
      "cell_type": "code",
      "metadata": {
        "id": "KOw8MJO8hAl1"
      },
      "source": [
        "'''\n",
        "TO DO: Return all of the entries from the table 'LoanTape' and assign to LoanTapeFromDB\n",
        "'''\n",
        "sql_query_string = \"SELECT * from LoanTape\"\n",
        "LoanTapeFromDB = sql_query_to_pd(sql_query_string, db_name='default.db')"
      ],
      "execution_count": null,
      "outputs": []
    },
    {
      "cell_type": "code",
      "metadata": {
        "id": "jJ1IKMq_GaPf"
      },
      "source": [
        "# This is the sample of the data frame that you want to archieve (LoanTapeFromDB)\n",
        "LoanTapeFromDB"
      ],
      "execution_count": null,
      "outputs": []
    },
    {
      "cell_type": "code",
      "metadata": {
        "id": "fxPycX1JiCfj"
      },
      "source": [
        "'''\n",
        "TO DO: Return all of the entries from the table 'Collection' and assign to CollectionTapeFromDB\n",
        "'''\n",
        "sql_query_string = \"SELECT * from Collection\"\n",
        "CollectionTapeFromDB = sql_query_to_pd(sql_query_string, db_name='default.db')"
      ],
      "execution_count": null,
      "outputs": []
    },
    {
      "cell_type": "code",
      "metadata": {
        "id": "hE3eXaiMGb8t"
      },
      "source": [
        "# This is the sample of the data frame that you want to archieve (CollectionTapeFromDB)\n",
        "CollectionTapeFromDB"
      ],
      "execution_count": null,
      "outputs": []
    },
    {
      "cell_type": "code",
      "metadata": {
        "id": "YU8sCNXvZb0-"
      },
      "source": [
        "'''\n",
        "TO DO: Given 'Collection' and 'LoanTape' tables above, please find the cumulative amount of collection for each LoanID and each installment number (rename as Total Collection)\n",
        "Return a table with the following columns:\n",
        "LoanID, InstallmentNumber, DisbursementDate, FaceValue, ExpectedPayment, TotalCollection\n",
        "'''\n",
        "sql_query_string = \"SELECT GropByTable.LoanID, GropByTable.InstallmentNumber, DisbursementDate, FaceValue, ExpectedPayment, TotalCollection from (SELECT LoanID, InstallmentNumber, sum(CollectedAmount) as TotalCollection from Collection group by LoanID, InstallmentNumber) as GropByTable JOIN LoanTape on (GropByTable.LoanID = LoanTape.LoanID and GropByTable.InstallmentNumber = LoanTape.InstallmentNumber)\"\n",
        "result_df = sql_query_to_pd(sql_query_string, db_name='default.db')"
      ],
      "execution_count": null,
      "outputs": []
    },
    {
      "cell_type": "code",
      "metadata": {
        "id": "K2quXmQVJCnK"
      },
      "source": [
        "# This is the table that you want to archieve at the end (result_df)\n",
        "result_df"
      ],
      "execution_count": null,
      "outputs": []
    },
    {
      "cell_type": "markdown",
      "metadata": {
        "id": "1aEYzxgtMo0G"
      },
      "source": [
        "# Section 2 : Data manupulation using Python"
      ]
    },
    {
      "cell_type": "markdown",
      "metadata": {
        "id": "lbjkzHtMuA9L"
      },
      "source": [
        "As you have a general idea of what LoanTape and CollectionTape should look like, we are going to calculate something more challanging.\n",
        "\n",
        "As a credit management fund, we deal with a lot of credit assets. Loan is one of the assets that we do the analysis a lot on, especially, the risk analysis. The goal of this analysis is to understand how likely a loan is to default. One of the ways to do that is to calculate the Days Past Due (DPD) metric on each loan as it determines how delinquent the borrower is. In general, we will calculate DPD at a particular day. DPD is non-zero when the borrowers pay late. \n",
        "\n",
        "For example, you borrowed \\$100 from one of your best friends on 9/1/2021 and you promised to return the money to him on 10/1/2021 and 11/1/2021 \\$50 each time. In technical terms, you agreed to pay off your debt in two installments. \n",
        "\n",
        "On 10/1/2021, you pay back \\$50 so your DPD is 0 since you are a good borrower and pay on time. On 10/15/2021, you pay back another $25 as you get some extra money from your mom. Your DPD is 0 even though you are an extra good friend and return back before the last due date. On 11/1/2021, your girlfriend asks for all of your money and you don't have any money to return back to your friend. Since you cannot pay back all of the agreed amount on time, you are not a good friend with him anymore. Your DPD at the end of 11/1/2021 is 1, which represents 1 day past due on your debt.\n",
        "\n",
        "In the real world situation, you definately have to take into account other factors like account interest, late fee etc. However, this test will assume that the world is so fantastic that the borrower only needs to pay back the principal.\n",
        "\n",
        "\n",
        "\n"
      ]
    },
    {
      "cell_type": "markdown",
      "metadata": {
        "id": "ptWxQGxlzKQL"
      },
      "source": [
        "**Task:** \n",
        "\n",
        "Create a function that calculate DPD (Days Past Due) per LoanID.\n"
      ]
    },
    {
      "cell_type": "code",
      "metadata": {
        "id": "d_TlbQEkZOHv"
      },
      "source": [
        "import pandas as pd\n",
        "import datetime\n",
        "import numpy as np"
      ],
      "execution_count": null,
      "outputs": []
    },
    {
      "cell_type": "code",
      "metadata": {
        "id": "GeLnh0kVvuev"
      },
      "source": [
        "loantapeColumns = ['LoanID','DisbursementDate','InstallmentNumber','FaceValue','InstallmentDueDate','ExpectedPayment']\n",
        "loantapeData = [[1,datetime.date(2021,1,1),1,300,datetime.date(2021,2,1),100],\n",
        "        [1,datetime.date(2021,1,1),2,300, datetime.date(2021,3,1),100],\n",
        "        [1,datetime.date(2021,1,1),3,300, datetime.date(2021,4,1),100],\n",
        "        [2,datetime.date(2021,6,1),1,400, datetime.date(2021,7,1),100],\n",
        "        [2,datetime.date(2021,6,1),2,400, datetime.date(2021,8,1),100],\n",
        "        [2,datetime.date(2021,6,1),3,400, datetime.date(2021,9,1),100],\n",
        "        [2,datetime.date(2021,6,1),4,400, datetime.date(2021,10,1),100],\n",
        "         [3,datetime.date(2021,8,1),1,150, datetime.date(2021,8,15),50],\n",
        "         [3,datetime.date(2021,8,1),2,150, datetime.date(2021,9,1),50],\n",
        "         [3,datetime.date(2021,8,1),3,150, datetime.date(2021,9,15),50]\n",
        "        ]"
      ],
      "execution_count": null,
      "outputs": []
    },
    {
      "cell_type": "code",
      "metadata": {
        "id": "mvdaFznLww60"
      },
      "source": [
        "collectionColumns = ['LoanID','CollectionDate','InstallmentNumber','CollectedAmount']\n",
        "collectionData = [[1,datetime.date(2021,1,15),1,100],\n",
        "        [1,datetime.date(2021,1,15),2,50],\n",
        "        [1,datetime.date(2021,1,31),2,25],\n",
        "        [2,datetime.date(2021,7,1),1,100],\n",
        "        [2,datetime.date(2021,8,1),2,100],\n",
        "        [2,datetime.date(2021,9,1),3,80],\n",
        "        [2,datetime.date(2021,9,15),3,10],\n",
        "        [3,datetime.date(2021,8,15),1,30],\n",
        "        [3,datetime.date(2021,8,25),1,20],\n",
        "        [3,datetime.date(2021,8,25),2,30]\n",
        "        ]"
      ],
      "execution_count": null,
      "outputs": []
    },
    {
      "cell_type": "code",
      "metadata": {
        "id": "Xqsq4lHSwrVU"
      },
      "source": [
        "# Above are the loantape and collection tape which are the same structure as what you have done on the session 1\n"
      ],
      "execution_count": null,
      "outputs": []
    },
    {
      "cell_type": "code",
      "metadata": {
        "id": "XKKRy3nY12k6"
      },
      "source": [
        "'''\n",
        "TO DO: Initiate Loantape and Colelction Tape in the dataframe.\n",
        "'''\n",
        "dfLoanTape = pd.DataFrame(data,columns=columns)\n",
        "dfCollection = pd.DataFrame(collectionData,columns=collectionColumns)"
      ],
      "execution_count": null,
      "outputs": []
    },
    {
      "cell_type": "code",
      "metadata": {
        "id": "vo57qjISNfBl"
      },
      "source": [
        "# Input : date(e.g. today), LoanID\n",
        "# Output : DPD\n",
        "# The function takes the date of the calculation and the unique identifier of the loan, and returns the number of days this loan is past due (DPD). \n",
        "# The return will be 0 if all of the payments were made on time, and non-zero if borrower was late on some of the payments\n",
        "# Hint: use JOIN and AGGREGATE in your approach"
      ],
      "execution_count": null,
      "outputs": []
    },
    {
      "cell_type": "code",
      "metadata": {
        "id": "Uu3MwgUibl9S"
      },
      "source": [
        "def calcDPD(dfCollection, dfLoanTape, _date, loanID):\n",
        "  '''\n",
        "  TO DO: Calculate the DPD for the particular loan on the particular date\n",
        "  '''\n",
        "  \n",
        "  dfTemp = dfCollection.groupby(['LoanID','InstallmentNumber'],as_index=False).agg({'CollectedAmount':'sum'})\n",
        "  dfGroup = dfLoanTape.merge(dfTemp, on=['LoanID','InstallmentNumber'])\n",
        "  dfGroup['Active'] = np.where(dfGroup['InstallmentDueDate'] < _date, True, False)\n",
        "  dfGroup = dfGroup[dfGroup['Active'] == True]\n",
        "  dfGroup['DPD'] = np.where(dfGroup['CollectedAmount'] < dfGroup['ExpectedPayment'], datetime.date.today() - dfGroup['InstallmentDueDate'], 0)\n",
        "  dfGroup = dfGroup.groupby('LoanID',as_index=False).agg({'DPD':'max'})\n",
        "  DPD = dfGroup.loc[dfGroup['LoanID'] == loanID]['DPD'][0]\n",
        "  return DPD.days"
      ],
      "execution_count": null,
      "outputs": []
    },
    {
      "cell_type": "code",
      "metadata": {
        "id": "3o1_1_sHKrhe"
      },
      "source": [
        "_date = datetime.date(2021,3,1)"
      ],
      "execution_count": null,
      "outputs": []
    },
    {
      "cell_type": "code",
      "metadata": {
        "id": "jQpVEkS8vWnV"
      },
      "source": [
        "  '''\n",
        "  TO DO: Call the function and print out the DPD for all valid ID using _date = 2/1/2021, 8/15/2021 and 8/25/2021\n",
        "  '''\n",
        "  calcDPD(dfCollection, dfLoanTape, datetime.date(2021,2,1), loanID)"
      ],
      "execution_count": null,
      "outputs": []
    },
    {
      "cell_type": "code",
      "metadata": {
        "colab": {
          "base_uri": "https://localhost:8080/"
        },
        "id": "7hwyafLgKcO6",
        "outputId": "b1ef06c3-4ed1-4222-f8ed-28fc6f9d5337"
      },
      "source": [
        "# This is the example output of the function \n",
        "day = calcDPD(dfCollection, dfLoanTape, datetime.date(2021,3,1), 1)\n",
        "day"
      ],
      "execution_count": null,
      "outputs": [
        {
          "output_type": "execute_result",
          "data": {
            "text/plain": [
              "0"
            ]
          },
          "metadata": {},
          "execution_count": 44
        }
      ]
    },
    {
      "cell_type": "markdown",
      "metadata": {
        "id": "Wrtyf57dvYOt"
      },
      "source": [
        "# Section 3 : Feedback"
      ]
    },
    {
      "cell_type": "code",
      "metadata": {
        "id": "3hp3dhCrva41"
      },
      "source": [
        ""
      ],
      "execution_count": null,
      "outputs": []
    },
    {
      "cell_type": "markdown",
      "metadata": {
        "id": "yqNOeJdAvo2W"
      },
      "source": [
        "Question 1 : What to do think about this assesment?"
      ]
    },
    {
      "cell_type": "code",
      "metadata": {
        "id": "ErUmUU_Mvst5"
      },
      "source": [
        "# Answer : "
      ],
      "execution_count": null,
      "outputs": []
    },
    {
      "cell_type": "markdown",
      "metadata": {
        "id": "HEd5q24AvxHV"
      },
      "source": [
        "Question 2 : If we are having a rotational program which you can work in the Dev/Ops side for 6-12 months and then switch to the main development side, what do you think about the program? Do you want to join or you want to work in only one part."
      ]
    },
    {
      "cell_type": "code",
      "metadata": {
        "id": "pz5oGUcmwRCd"
      },
      "source": [
        "# Answer :"
      ],
      "execution_count": null,
      "outputs": []
    }
  ]
}